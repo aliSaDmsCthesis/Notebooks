{
  "nbformat": 4,
  "nbformat_minor": 0,
  "metadata": {
    "kernelspec": {
      "display_name": "Python 3",
      "language": "python",
      "name": "python3"
    },
    "language_info": {
      "codemirror_mode": {
        "name": "ipython",
        "version": 3
      },
      "file_extension": ".py",
      "mimetype": "text/x-python",
      "name": "python",
      "nbconvert_exporter": "python",
      "pygments_lexer": "ipython3",
      "version": "3.6.3"
    },
    "colab": {
      "name": "02_Collaborative_Filtering.ipynb",
      "provenance": []
    }
  },
  "cells": [
    {
      "cell_type": "markdown",
      "metadata": {
        "id": "VLvo7_c2-x5y"
      },
      "source": [
        "### Recommendation engine using collaborating filtering on Movielens"
      ]
    },
    {
      "cell_type": "code",
      "metadata": {
        "id": "if_c1s2O-x52"
      },
      "source": [
        "import torch"
      ],
      "execution_count": null,
      "outputs": []
    },
    {
      "cell_type": "code",
      "metadata": {
        "id": "TMSh9wmK-x54"
      },
      "source": [
        "%reload_ext autoreload\n",
        "%autoreload 2\n",
        "%matplotlib inline\n",
        "\n",
        "from fastai.learner import *\n",
        "from fastai.column_data import *\n",
        "from fastai.imports import *"
      ],
      "execution_count": null,
      "outputs": []
    },
    {
      "cell_type": "code",
      "metadata": {
        "id": "GVaxNArl-x54"
      },
      "source": [
        "path = '.'"
      ],
      "execution_count": null,
      "outputs": []
    },
    {
      "cell_type": "code",
      "metadata": {
        "id": "GWAQ5RP9-x55",
        "outputId": "ba3f34cf-b018-405b-8650-f952d32ef01e"
      },
      "source": [
        "! ls ."
      ],
      "execution_count": null,
      "outputs": [
        {
          "name": "stdout",
          "output_type": "stream",
          "text": [
            "collaborating filter.ipynb  ml-latest-small.zip  movielens.ipynb    tmp\r\n",
            "ml-latest-small\t\t    models\t\t ratings_small.csv\r\n"
          ]
        }
      ]
    },
    {
      "cell_type": "code",
      "metadata": {
        "id": "p83VxuDq-x56"
      },
      "source": [
        "ratings = pd.read_csv('ratings_small.csv')"
      ],
      "execution_count": null,
      "outputs": []
    },
    {
      "cell_type": "code",
      "metadata": {
        "id": "nlVSsWNr-x58",
        "outputId": "f25e4f72-5ee2-430b-eb45-d020a6a21f4f"
      },
      "source": [
        "ratings.head()"
      ],
      "execution_count": null,
      "outputs": [
        {
          "data": {
            "text/html": [
              "<div>\n",
              "<style scoped>\n",
              "    .dataframe tbody tr th:only-of-type {\n",
              "        vertical-align: middle;\n",
              "    }\n",
              "\n",
              "    .dataframe tbody tr th {\n",
              "        vertical-align: top;\n",
              "    }\n",
              "\n",
              "    .dataframe thead th {\n",
              "        text-align: right;\n",
              "    }\n",
              "</style>\n",
              "<table border=\"1\" class=\"dataframe\">\n",
              "  <thead>\n",
              "    <tr style=\"text-align: right;\">\n",
              "      <th></th>\n",
              "      <th>userId</th>\n",
              "      <th>movieId</th>\n",
              "      <th>rating</th>\n",
              "      <th>timestamp</th>\n",
              "    </tr>\n",
              "  </thead>\n",
              "  <tbody>\n",
              "    <tr>\n",
              "      <th>0</th>\n",
              "      <td>1</td>\n",
              "      <td>31</td>\n",
              "      <td>2.5</td>\n",
              "      <td>1260759144</td>\n",
              "    </tr>\n",
              "    <tr>\n",
              "      <th>1</th>\n",
              "      <td>1</td>\n",
              "      <td>1029</td>\n",
              "      <td>3.0</td>\n",
              "      <td>1260759179</td>\n",
              "    </tr>\n",
              "    <tr>\n",
              "      <th>2</th>\n",
              "      <td>1</td>\n",
              "      <td>1061</td>\n",
              "      <td>3.0</td>\n",
              "      <td>1260759182</td>\n",
              "    </tr>\n",
              "    <tr>\n",
              "      <th>3</th>\n",
              "      <td>1</td>\n",
              "      <td>1129</td>\n",
              "      <td>2.0</td>\n",
              "      <td>1260759185</td>\n",
              "    </tr>\n",
              "    <tr>\n",
              "      <th>4</th>\n",
              "      <td>1</td>\n",
              "      <td>1172</td>\n",
              "      <td>4.0</td>\n",
              "      <td>1260759205</td>\n",
              "    </tr>\n",
              "  </tbody>\n",
              "</table>\n",
              "</div>"
            ],
            "text/plain": [
              "   userId  movieId  rating   timestamp\n",
              "0       1       31     2.5  1260759144\n",
              "1       1     1029     3.0  1260759179\n",
              "2       1     1061     3.0  1260759182\n",
              "3       1     1129     2.0  1260759185\n",
              "4       1     1172     4.0  1260759205"
            ]
          },
          "execution_count": 6,
          "metadata": {},
          "output_type": "execute_result"
        }
      ]
    },
    {
      "cell_type": "code",
      "metadata": {
        "id": "pYzb4zvW-x59",
        "outputId": "46512ce7-f506-49b1-be2d-e3a80f33b270"
      },
      "source": [
        "ratings.shape"
      ],
      "execution_count": null,
      "outputs": [
        {
          "data": {
            "text/plain": [
              "(100004, 4)"
            ]
          },
          "execution_count": 7,
          "metadata": {},
          "output_type": "execute_result"
        }
      ]
    },
    {
      "cell_type": "markdown",
      "metadata": {
        "id": "lSD0g2gi-x5-"
      },
      "source": [
        " There are no NAs"
      ]
    },
    {
      "cell_type": "code",
      "metadata": {
        "id": "w7ni99m--x5_"
      },
      "source": [
        "n_users=int(ratings.userId.nunique())\n",
        "n_movies=int(ratings.movieId.nunique())"
      ],
      "execution_count": null,
      "outputs": []
    },
    {
      "cell_type": "code",
      "metadata": {
        "id": "ZyiZ7Urd-x6B",
        "outputId": "4988482b-f2a6-46d0-c682-739ddf119ad9"
      },
      "source": [
        "print(\"n_users = \",n_users, \"||\", \"n_movies = \", n_movies )"
      ],
      "execution_count": null,
      "outputs": [
        {
          "name": "stdout",
          "output_type": "stream",
          "text": [
            "n_users =  671 || n_movies =  9066\n"
          ]
        }
      ]
    },
    {
      "cell_type": "markdown",
      "metadata": {
        "id": "vzUI3PRL-x6B"
      },
      "source": [
        "Let's create a cross-tab for better visualization of user ids and item ids."
      ]
    },
    {
      "cell_type": "code",
      "metadata": {
        "id": "Cv5Zzi1U-x6B"
      },
      "source": [
        "g = ratings.groupby('userId')['rating'].count()\n",
        "topg = g.sort_values(ascending = False)[:15]\n",
        "\n",
        "i = ratings.groupby('movieId')['rating'].count()\n",
        "topi = i.sort_values(ascending = False)[:15]"
      ],
      "execution_count": null,
      "outputs": []
    },
    {
      "cell_type": "code",
      "metadata": {
        "id": "CqpNcJaX-x6C",
        "outputId": "0525fed3-6025-4a40-b73e-3eea2d34b773"
      },
      "source": [
        "# gettings ratings of top users and top items\n",
        "\n",
        "join1 = ratings.join(topg, on='userId', how = 'inner', rsuffix='_r')\n",
        "join1 = join1.join(topi, on='movieId', how = 'inner', rsuffix = '_r')\n",
        "\n",
        "pd.crosstab(join1.userId, join1.movieId, join1.rating, aggfunc=np.sum)"
      ],
      "execution_count": null,
      "outputs": [
        {
          "data": {
            "text/html": [
              "<div>\n",
              "<style scoped>\n",
              "    .dataframe tbody tr th:only-of-type {\n",
              "        vertical-align: middle;\n",
              "    }\n",
              "\n",
              "    .dataframe tbody tr th {\n",
              "        vertical-align: top;\n",
              "    }\n",
              "\n",
              "    .dataframe thead th {\n",
              "        text-align: right;\n",
              "    }\n",
              "</style>\n",
              "<table border=\"1\" class=\"dataframe\">\n",
              "  <thead>\n",
              "    <tr style=\"text-align: right;\">\n",
              "      <th>movieId</th>\n",
              "      <th>1</th>\n",
              "      <th>110</th>\n",
              "      <th>260</th>\n",
              "      <th>296</th>\n",
              "      <th>318</th>\n",
              "      <th>356</th>\n",
              "      <th>480</th>\n",
              "      <th>527</th>\n",
              "      <th>589</th>\n",
              "      <th>593</th>\n",
              "      <th>608</th>\n",
              "      <th>1196</th>\n",
              "      <th>1198</th>\n",
              "      <th>1270</th>\n",
              "      <th>2571</th>\n",
              "    </tr>\n",
              "    <tr>\n",
              "      <th>userId</th>\n",
              "      <th></th>\n",
              "      <th></th>\n",
              "      <th></th>\n",
              "      <th></th>\n",
              "      <th></th>\n",
              "      <th></th>\n",
              "      <th></th>\n",
              "      <th></th>\n",
              "      <th></th>\n",
              "      <th></th>\n",
              "      <th></th>\n",
              "      <th></th>\n",
              "      <th></th>\n",
              "      <th></th>\n",
              "      <th></th>\n",
              "    </tr>\n",
              "  </thead>\n",
              "  <tbody>\n",
              "    <tr>\n",
              "      <th>15</th>\n",
              "      <td>2.0</td>\n",
              "      <td>3.0</td>\n",
              "      <td>5.0</td>\n",
              "      <td>5.0</td>\n",
              "      <td>2.0</td>\n",
              "      <td>1.0</td>\n",
              "      <td>3.0</td>\n",
              "      <td>4.0</td>\n",
              "      <td>4.0</td>\n",
              "      <td>5.0</td>\n",
              "      <td>5.0</td>\n",
              "      <td>5.0</td>\n",
              "      <td>4.0</td>\n",
              "      <td>5.0</td>\n",
              "      <td>5.0</td>\n",
              "    </tr>\n",
              "    <tr>\n",
              "      <th>30</th>\n",
              "      <td>4.0</td>\n",
              "      <td>5.0</td>\n",
              "      <td>4.0</td>\n",
              "      <td>5.0</td>\n",
              "      <td>5.0</td>\n",
              "      <td>5.0</td>\n",
              "      <td>4.0</td>\n",
              "      <td>5.0</td>\n",
              "      <td>4.0</td>\n",
              "      <td>4.0</td>\n",
              "      <td>5.0</td>\n",
              "      <td>4.0</td>\n",
              "      <td>5.0</td>\n",
              "      <td>5.0</td>\n",
              "      <td>3.0</td>\n",
              "    </tr>\n",
              "    <tr>\n",
              "      <th>73</th>\n",
              "      <td>5.0</td>\n",
              "      <td>4.0</td>\n",
              "      <td>4.5</td>\n",
              "      <td>5.0</td>\n",
              "      <td>5.0</td>\n",
              "      <td>5.0</td>\n",
              "      <td>4.0</td>\n",
              "      <td>5.0</td>\n",
              "      <td>3.0</td>\n",
              "      <td>4.5</td>\n",
              "      <td>4.0</td>\n",
              "      <td>5.0</td>\n",
              "      <td>5.0</td>\n",
              "      <td>5.0</td>\n",
              "      <td>4.5</td>\n",
              "    </tr>\n",
              "    <tr>\n",
              "      <th>212</th>\n",
              "      <td>3.0</td>\n",
              "      <td>5.0</td>\n",
              "      <td>4.0</td>\n",
              "      <td>4.0</td>\n",
              "      <td>4.5</td>\n",
              "      <td>4.0</td>\n",
              "      <td>3.0</td>\n",
              "      <td>5.0</td>\n",
              "      <td>3.0</td>\n",
              "      <td>4.0</td>\n",
              "      <td>NaN</td>\n",
              "      <td>NaN</td>\n",
              "      <td>3.0</td>\n",
              "      <td>3.0</td>\n",
              "      <td>5.0</td>\n",
              "    </tr>\n",
              "    <tr>\n",
              "      <th>213</th>\n",
              "      <td>3.0</td>\n",
              "      <td>2.5</td>\n",
              "      <td>5.0</td>\n",
              "      <td>NaN</td>\n",
              "      <td>NaN</td>\n",
              "      <td>2.0</td>\n",
              "      <td>5.0</td>\n",
              "      <td>NaN</td>\n",
              "      <td>4.0</td>\n",
              "      <td>2.5</td>\n",
              "      <td>2.0</td>\n",
              "      <td>5.0</td>\n",
              "      <td>3.0</td>\n",
              "      <td>3.0</td>\n",
              "      <td>4.0</td>\n",
              "    </tr>\n",
              "    <tr>\n",
              "      <th>294</th>\n",
              "      <td>4.0</td>\n",
              "      <td>3.0</td>\n",
              "      <td>4.0</td>\n",
              "      <td>NaN</td>\n",
              "      <td>3.0</td>\n",
              "      <td>4.0</td>\n",
              "      <td>4.0</td>\n",
              "      <td>4.0</td>\n",
              "      <td>3.0</td>\n",
              "      <td>NaN</td>\n",
              "      <td>NaN</td>\n",
              "      <td>4.0</td>\n",
              "      <td>4.5</td>\n",
              "      <td>4.0</td>\n",
              "      <td>4.5</td>\n",
              "    </tr>\n",
              "    <tr>\n",
              "      <th>311</th>\n",
              "      <td>3.0</td>\n",
              "      <td>3.0</td>\n",
              "      <td>4.0</td>\n",
              "      <td>3.0</td>\n",
              "      <td>4.5</td>\n",
              "      <td>5.0</td>\n",
              "      <td>4.5</td>\n",
              "      <td>5.0</td>\n",
              "      <td>4.5</td>\n",
              "      <td>2.0</td>\n",
              "      <td>4.0</td>\n",
              "      <td>3.0</td>\n",
              "      <td>4.5</td>\n",
              "      <td>4.5</td>\n",
              "      <td>4.0</td>\n",
              "    </tr>\n",
              "    <tr>\n",
              "      <th>380</th>\n",
              "      <td>4.0</td>\n",
              "      <td>5.0</td>\n",
              "      <td>4.0</td>\n",
              "      <td>5.0</td>\n",
              "      <td>4.0</td>\n",
              "      <td>5.0</td>\n",
              "      <td>4.0</td>\n",
              "      <td>NaN</td>\n",
              "      <td>4.0</td>\n",
              "      <td>5.0</td>\n",
              "      <td>4.0</td>\n",
              "      <td>4.0</td>\n",
              "      <td>NaN</td>\n",
              "      <td>3.0</td>\n",
              "      <td>5.0</td>\n",
              "    </tr>\n",
              "    <tr>\n",
              "      <th>452</th>\n",
              "      <td>3.5</td>\n",
              "      <td>4.0</td>\n",
              "      <td>4.0</td>\n",
              "      <td>5.0</td>\n",
              "      <td>5.0</td>\n",
              "      <td>4.0</td>\n",
              "      <td>5.0</td>\n",
              "      <td>4.0</td>\n",
              "      <td>4.0</td>\n",
              "      <td>5.0</td>\n",
              "      <td>5.0</td>\n",
              "      <td>4.0</td>\n",
              "      <td>4.0</td>\n",
              "      <td>4.0</td>\n",
              "      <td>2.0</td>\n",
              "    </tr>\n",
              "    <tr>\n",
              "      <th>468</th>\n",
              "      <td>4.0</td>\n",
              "      <td>3.0</td>\n",
              "      <td>3.5</td>\n",
              "      <td>3.5</td>\n",
              "      <td>3.5</td>\n",
              "      <td>3.0</td>\n",
              "      <td>2.5</td>\n",
              "      <td>NaN</td>\n",
              "      <td>NaN</td>\n",
              "      <td>3.0</td>\n",
              "      <td>4.0</td>\n",
              "      <td>3.0</td>\n",
              "      <td>3.5</td>\n",
              "      <td>3.0</td>\n",
              "      <td>3.0</td>\n",
              "    </tr>\n",
              "    <tr>\n",
              "      <th>509</th>\n",
              "      <td>3.0</td>\n",
              "      <td>5.0</td>\n",
              "      <td>5.0</td>\n",
              "      <td>5.0</td>\n",
              "      <td>4.0</td>\n",
              "      <td>4.0</td>\n",
              "      <td>3.0</td>\n",
              "      <td>5.0</td>\n",
              "      <td>2.0</td>\n",
              "      <td>4.0</td>\n",
              "      <td>4.5</td>\n",
              "      <td>5.0</td>\n",
              "      <td>5.0</td>\n",
              "      <td>3.0</td>\n",
              "      <td>4.5</td>\n",
              "    </tr>\n",
              "    <tr>\n",
              "      <th>547</th>\n",
              "      <td>3.5</td>\n",
              "      <td>NaN</td>\n",
              "      <td>NaN</td>\n",
              "      <td>5.0</td>\n",
              "      <td>5.0</td>\n",
              "      <td>2.0</td>\n",
              "      <td>3.0</td>\n",
              "      <td>5.0</td>\n",
              "      <td>NaN</td>\n",
              "      <td>5.0</td>\n",
              "      <td>5.0</td>\n",
              "      <td>2.5</td>\n",
              "      <td>2.0</td>\n",
              "      <td>3.5</td>\n",
              "      <td>3.5</td>\n",
              "    </tr>\n",
              "    <tr>\n",
              "      <th>564</th>\n",
              "      <td>4.0</td>\n",
              "      <td>1.0</td>\n",
              "      <td>2.0</td>\n",
              "      <td>5.0</td>\n",
              "      <td>NaN</td>\n",
              "      <td>3.0</td>\n",
              "      <td>5.0</td>\n",
              "      <td>4.0</td>\n",
              "      <td>5.0</td>\n",
              "      <td>5.0</td>\n",
              "      <td>5.0</td>\n",
              "      <td>5.0</td>\n",
              "      <td>5.0</td>\n",
              "      <td>3.0</td>\n",
              "      <td>3.0</td>\n",
              "    </tr>\n",
              "    <tr>\n",
              "      <th>580</th>\n",
              "      <td>4.0</td>\n",
              "      <td>4.5</td>\n",
              "      <td>4.0</td>\n",
              "      <td>4.5</td>\n",
              "      <td>4.0</td>\n",
              "      <td>3.5</td>\n",
              "      <td>3.0</td>\n",
              "      <td>4.0</td>\n",
              "      <td>4.5</td>\n",
              "      <td>4.0</td>\n",
              "      <td>4.5</td>\n",
              "      <td>4.0</td>\n",
              "      <td>3.5</td>\n",
              "      <td>3.0</td>\n",
              "      <td>4.5</td>\n",
              "    </tr>\n",
              "    <tr>\n",
              "      <th>624</th>\n",
              "      <td>5.0</td>\n",
              "      <td>NaN</td>\n",
              "      <td>5.0</td>\n",
              "      <td>5.0</td>\n",
              "      <td>NaN</td>\n",
              "      <td>3.0</td>\n",
              "      <td>3.0</td>\n",
              "      <td>NaN</td>\n",
              "      <td>3.0</td>\n",
              "      <td>5.0</td>\n",
              "      <td>4.0</td>\n",
              "      <td>5.0</td>\n",
              "      <td>5.0</td>\n",
              "      <td>5.0</td>\n",
              "      <td>2.0</td>\n",
              "    </tr>\n",
              "  </tbody>\n",
              "</table>\n",
              "</div>"
            ],
            "text/plain": [
              "movieId  1     110   260   296   318   356   480   527   589   593   608   \\\n",
              "userId                                                                      \n",
              "15        2.0   3.0   5.0   5.0   2.0   1.0   3.0   4.0   4.0   5.0   5.0   \n",
              "30        4.0   5.0   4.0   5.0   5.0   5.0   4.0   5.0   4.0   4.0   5.0   \n",
              "73        5.0   4.0   4.5   5.0   5.0   5.0   4.0   5.0   3.0   4.5   4.0   \n",
              "212       3.0   5.0   4.0   4.0   4.5   4.0   3.0   5.0   3.0   4.0   NaN   \n",
              "213       3.0   2.5   5.0   NaN   NaN   2.0   5.0   NaN   4.0   2.5   2.0   \n",
              "294       4.0   3.0   4.0   NaN   3.0   4.0   4.0   4.0   3.0   NaN   NaN   \n",
              "311       3.0   3.0   4.0   3.0   4.5   5.0   4.5   5.0   4.5   2.0   4.0   \n",
              "380       4.0   5.0   4.0   5.0   4.0   5.0   4.0   NaN   4.0   5.0   4.0   \n",
              "452       3.5   4.0   4.0   5.0   5.0   4.0   5.0   4.0   4.0   5.0   5.0   \n",
              "468       4.0   3.0   3.5   3.5   3.5   3.0   2.5   NaN   NaN   3.0   4.0   \n",
              "509       3.0   5.0   5.0   5.0   4.0   4.0   3.0   5.0   2.0   4.0   4.5   \n",
              "547       3.5   NaN   NaN   5.0   5.0   2.0   3.0   5.0   NaN   5.0   5.0   \n",
              "564       4.0   1.0   2.0   5.0   NaN   3.0   5.0   4.0   5.0   5.0   5.0   \n",
              "580       4.0   4.5   4.0   4.5   4.0   3.5   3.0   4.0   4.5   4.0   4.5   \n",
              "624       5.0   NaN   5.0   5.0   NaN   3.0   3.0   NaN   3.0   5.0   4.0   \n",
              "\n",
              "movieId  1196  1198  1270  2571  \n",
              "userId                           \n",
              "15        5.0   4.0   5.0   5.0  \n",
              "30        4.0   5.0   5.0   3.0  \n",
              "73        5.0   5.0   5.0   4.5  \n",
              "212       NaN   3.0   3.0   5.0  \n",
              "213       5.0   3.0   3.0   4.0  \n",
              "294       4.0   4.5   4.0   4.5  \n",
              "311       3.0   4.5   4.5   4.0  \n",
              "380       4.0   NaN   3.0   5.0  \n",
              "452       4.0   4.0   4.0   2.0  \n",
              "468       3.0   3.5   3.0   3.0  \n",
              "509       5.0   5.0   3.0   4.5  \n",
              "547       2.5   2.0   3.5   3.5  \n",
              "564       5.0   5.0   3.0   3.0  \n",
              "580       4.0   3.5   3.0   4.5  \n",
              "624       5.0   5.0   5.0   2.0  "
            ]
          },
          "execution_count": 11,
          "metadata": {},
          "output_type": "execute_result"
        }
      ]
    },
    {
      "cell_type": "markdown",
      "metadata": {
        "id": "DzV4vu9_-x6D"
      },
      "source": [
        "### Collaborative filtering"
      ]
    },
    {
      "cell_type": "code",
      "metadata": {
        "id": "X_dV8XdS-x6D"
      },
      "source": [
        "val_indx = get_cv_idxs(len(ratings))  # index for validation set\n",
        "wd = 2e-4 # weight decay\n",
        "n_factors = 50 # n_factors"
      ],
      "execution_count": null,
      "outputs": []
    },
    {
      "cell_type": "code",
      "metadata": {
        "id": "zt9PYBg0-x6D"
      },
      "source": [
        "# data loader\n",
        "cf = CollabFilterDataset.from_csv(path, 'ratings_small.csv', 'userId', 'movieId', 'rating')"
      ],
      "execution_count": null,
      "outputs": []
    },
    {
      "cell_type": "code",
      "metadata": {
        "id": "j-Qe_XYJ-x6D"
      },
      "source": [
        "learn = cf.get_learner(n_factors, val_indx, bs=64, opt_fn=optim.Adam)"
      ],
      "execution_count": null,
      "outputs": []
    },
    {
      "cell_type": "code",
      "metadata": {
        "id": "uxaXwvJA-x6E",
        "outputId": "a755ca17-aeee-427a-b198-81ced3f4894f",
        "colab": {
          "referenced_widgets": [
            "065d1fd5a51945359526689db634fd06"
          ]
        }
      },
      "source": [
        "learn.fit(1e-2,2, wds = wd, cycle_len=1, cycle_mult=2)"
      ],
      "execution_count": null,
      "outputs": [
        {
          "data": {
            "application/vnd.jupyter.widget-view+json": {
              "model_id": "065d1fd5a51945359526689db634fd06",
              "version_major": 2,
              "version_minor": 0
            },
            "text/html": [
              "<p>Failed to display Jupyter Widget of type <code>HBox</code>.</p>\n",
              "<p>\n",
              "  If you're reading this message in Jupyter Notebook or JupyterLab, it may mean\n",
              "  that the widgets JavaScript is still loading. If this message persists, it\n",
              "  likely means that the widgets JavaScript library is either not installed or\n",
              "  not enabled. See the <a href=\"https://ipywidgets.readthedocs.io/en/stable/user_install.html\">Jupyter\n",
              "  Widgets Documentation</a> for setup instructions.\n",
              "</p>\n",
              "<p>\n",
              "  If you're reading this message in another notebook frontend (for example, a static\n",
              "  rendering on GitHub or <a href=\"https://nbviewer.jupyter.org/\">NBViewer</a>),\n",
              "  it may mean that your frontend doesn't currently support widgets.\n",
              "</p>\n"
            ],
            "text/plain": [
              "HBox(children=(IntProgress(value=0, description='Epoch', max=3), HTML(value='')))"
            ]
          },
          "metadata": {},
          "output_type": "display_data"
        },
        {
          "name": "stdout",
          "output_type": "stream",
          "text": [
            "[ 0.       0.7727   0.80396]                                    \n",
            "[ 1.       0.77782  0.77585]                                    \n",
            "[ 2.       0.58389  0.76542]                                    \n",
            "\n"
          ]
        }
      ]
    },
    {
      "cell_type": "markdown",
      "metadata": {
        "id": "1sx0wfgz-x6E"
      },
      "source": [
        "We got .76"
      ]
    },
    {
      "cell_type": "markdown",
      "metadata": {
        "id": "gEk0m0Bu-x6F"
      },
      "source": [
        "### Collaborating filter from scratch"
      ]
    },
    {
      "cell_type": "code",
      "metadata": {
        "id": "j-_H1uNI-x6G"
      },
      "source": [
        "u_uniq = ratings.userId.unique()\n",
        "user2idx = {o:i for i,o in enumerate(u_uniq)}\n",
        "ratings.userId = ratings.userId.apply(lambda x: user2idx[x])\n",
        "\n",
        "m_uniq = ratings.movieId.unique()\n",
        "movie2idx = {o:i for i,o in enumerate(m_uniq)}\n",
        "ratings.movieId = ratings.movieId.apply(lambda x: movie2idx[x])\n"
      ],
      "execution_count": null,
      "outputs": []
    },
    {
      "cell_type": "code",
      "metadata": {
        "id": "jdiR3OGm-x6G",
        "outputId": "ad7f963f-5a57-46e8-e736-75a9d38b17aa"
      },
      "source": [
        "n_users, n_movies"
      ],
      "execution_count": null,
      "outputs": [
        {
          "data": {
            "text/plain": [
              "(671, 9066)"
            ]
          },
          "execution_count": 15,
          "metadata": {},
          "output_type": "execute_result"
        }
      ]
    },
    {
      "cell_type": "markdown",
      "metadata": {
        "id": "MzQVnaB--x6H"
      },
      "source": [
        "`nn.Embedding` creates a lookup table that stores embeddings of a fixed dictionary and size. So word embeddings once stored can be retrieved using indices. After making `embeddings`, we get free `u.weights` which are correspondings weights of ebeddings"
      ]
    },
    {
      "cell_type": "code",
      "metadata": {
        "id": "T8o9p8X1-x6H"
      },
      "source": [
        "val_indx = get_cv_idxs(len(ratings))  # index for validation set\n",
        "wd = 2e-4 # weight decay\n",
        "n_factors = 50 # n_factors i.e. 1 dimension of embeddings (random)"
      ],
      "execution_count": null,
      "outputs": []
    },
    {
      "cell_type": "code",
      "metadata": {
        "id": "jHUPeMzh-x6I",
        "outputId": "fd685c09-1deb-444c-a0f1-5771d510f983"
      },
      "source": [
        "min_rating,max_rating = ratings.rating.min(),ratings.rating.max()\n",
        "min_rating,max_rating"
      ],
      "execution_count": null,
      "outputs": [
        {
          "data": {
            "text/plain": [
              "(0.5, 5.0)"
            ]
          },
          "execution_count": 17,
          "metadata": {},
          "output_type": "execute_result"
        }
      ]
    },
    {
      "cell_type": "code",
      "metadata": {
        "id": "A_PEzc9T-x6I"
      },
      "source": [
        "def get_emb(ni,nf):\n",
        "    e = nn.Embedding(ni, nf)\n",
        "    e.weight.data.uniform_(-0.01,0.01)\n",
        "    #e.weight.data.normal_(0,0.003)\n",
        "\n",
        "    return e"
      ],
      "execution_count": null,
      "outputs": []
    },
    {
      "cell_type": "code",
      "metadata": {
        "id": "JSWM2GM3-x6J"
      },
      "source": [
        "x = ratings.drop(['rating'],axis=1)\n",
        "y = ratings['rating'].astype(np.float32)\n",
        "\n",
        "data = ColumnarModelData.from_data_frame(path, val_indx, x, y, ['userId', 'movieId'], 64)"
      ],
      "execution_count": null,
      "outputs": []
    },
    {
      "cell_type": "code",
      "metadata": {
        "id": "Dr5OZTch-x6J"
      },
      "source": [
        "# nh = dimension of hidden linear layer\n",
        "# p1 = dropout1\n",
        "# p2 = dropout2\n",
        "\n",
        "class EmbeddingNet(nn.Module):\n",
        "    def __init__(self, n_users, _n_movies, nh = 10, p1 = 0.05, p2= 0.5):\n",
        "        super().__init__()\n",
        "        (self.u, self.m, self.ub, self.mb) = [get_emb(*o) for o in [\n",
        "            (n_users, n_factors), (n_movies, n_factors),\n",
        "            (n_users,1), (n_movies,1)\n",
        "        ]]\n",
        "        \n",
        "        self.lin1 = nn.Linear(n_factors*2, nh)  # bias is True by default\n",
        "        self.lin2 = nn.Linear(nh, 1)\n",
        "        self.drop1 = nn.Dropout(p = p1)\n",
        "        self.drop2 = nn.Dropout(p = p2)\n",
        "    \n",
        "    def forward(self, cats, conts): # forward pass i.e.  dot product of vector from movie embedding matrixx\n",
        "                                    # and vector from user embeddings matrix\n",
        "        \n",
        "        # torch.cat : concatenates both embedding matrix to make more columns, same rows i.e. n_factors*2, n : rows\n",
        "        # u(users) is doing lookup for indexed mentioned in users\n",
        "        # users has indexes to lookup in embedding matrix. \n",
        "        \n",
        "        users,movies = cats[:,0],cats[:,1]\n",
        "        u2,m2 = self.u(users) , self.m(movies)\n",
        "       \n",
        "        x = self.drop1(torch.cat([u2,m2], 1)) # drop initialized weights\n",
        "        x = self.drop2(F.relu(self.lin1(x))) # drop 1st linear + nonlinear wt\n",
        "        r = F.sigmoid(self.lin2(x)) * (max_rating - min_rating) + min_rating               \n",
        "        return r"
      ],
      "execution_count": null,
      "outputs": []
    },
    {
      "cell_type": "code",
      "metadata": {
        "id": "OGcUAQRI-x6L"
      },
      "source": [
        "wd=1e-5\n",
        "model = EmbeddingNet(n_users, n_movies)\n",
        "model = model.cuda()\n",
        "opt = optim.Adam(model.parameters(), 1e-3, weight_decay=wd) # got parameter() for free , lr = 1e-3"
      ],
      "execution_count": null,
      "outputs": []
    },
    {
      "cell_type": "code",
      "metadata": {
        "id": "9zp_Fdua-x6M",
        "outputId": "15a579c4-0506-4b03-c6d7-b51f43077034"
      },
      "source": [
        "model"
      ],
      "execution_count": null,
      "outputs": [
        {
          "data": {
            "text/plain": [
              "EmbeddingNet (\n",
              "  (u): Embedding(671, 50)\n",
              "  (m): Embedding(9066, 50)\n",
              "  (ub): Embedding(671, 1)\n",
              "  (mb): Embedding(9066, 1)\n",
              "  (lin1): Linear (100 -> 10)\n",
              "  (lin2): Linear (10 -> 1)\n",
              "  (drop1): Dropout (p = 0.05)\n",
              "  (drop2): Dropout (p = 0.5)\n",
              ")"
            ]
          },
          "execution_count": 25,
          "metadata": {},
          "output_type": "execute_result"
        }
      ]
    },
    {
      "cell_type": "code",
      "metadata": {
        "scrolled": true,
        "id": "j2tRyk80-x6N",
        "outputId": "c986d557-1581-48b6-cac7-02eb76b5bd3d"
      },
      "source": [
        "fit(model, data, 3, opt, F.mse_loss)"
      ],
      "execution_count": null,
      "outputs": [
        {
          "data": {
            "application/vnd.jupyter.widget-view+json": {
              "model_id": "2f45cf8456bc4101a27367f9c26d9f6a",
              "version_major": 2,
              "version_minor": 0
            },
            "text/html": [
              "<p>Failed to display Jupyter Widget of type <code>HBox</code>.</p>\n",
              "<p>\n",
              "  If you're reading this message in Jupyter Notebook or JupyterLab, it may mean\n",
              "  that the widgets JavaScript is still loading. If this message persists, it\n",
              "  likely means that the widgets JavaScript library is either not installed or\n",
              "  not enabled. See the <a href=\"https://ipywidgets.readthedocs.io/en/stable/user_install.html\">Jupyter\n",
              "  Widgets Documentation</a> for setup instructions.\n",
              "</p>\n",
              "<p>\n",
              "  If you're reading this message in another notebook frontend (for example, a static\n",
              "  rendering on GitHub or <a href=\"https://nbviewer.jupyter.org/\">NBViewer</a>),\n",
              "  it may mean that your frontend doesn't currently support widgets.\n",
              "</p>\n"
            ],
            "text/plain": [
              "HBox(children=(IntProgress(value=0, description='Epoch', max=3), HTML(value='')))"
            ]
          },
          "metadata": {},
          "output_type": "display_data"
        },
        {
          "name": "stdout",
          "output_type": "stream",
          "text": [
            "[ 0.       0.74293  0.79247]                                    \n",
            "[ 1.       0.74748  0.79483]                                    \n",
            "[ 2.       0.75364  0.79638]                                    \n",
            "\n"
          ]
        }
      ]
    },
    {
      "cell_type": "code",
      "metadata": {
        "id": "hxlQW0fI-x6N",
        "outputId": "ee8fea68-2efe-4faa-f0a0-3de6985cd524"
      },
      "source": [
        "# from tqdm import tqdm as tqdm_cls\n",
        "\n",
        "# inst = tqdm_cls._instances\n",
        "# for i in range(len(inst)): inst.pop().close()"
      ],
      "execution_count": null,
      "outputs": [
        {
          "name": "stdout",
          "output_type": "stream",
          "text": [
            "                                        \r"
          ]
        }
      ]
    },
    {
      "cell_type": "code",
      "metadata": {
        "id": "D3b0ftfn-x6O"
      },
      "source": [
        "set_lrs(opt, 1e-3)"
      ],
      "execution_count": null,
      "outputs": []
    },
    {
      "cell_type": "code",
      "metadata": {
        "scrolled": true,
        "id": "jdrMlgI2-x6O",
        "outputId": "1737349a-459e-45a5-daf3-51b2f3c95d66"
      },
      "source": [
        "fit(model, data, 3, opt, F.mse_loss)"
      ],
      "execution_count": null,
      "outputs": [
        {
          "data": {
            "application/vnd.jupyter.widget-view+json": {
              "model_id": "ea1cd58e12574699969fd0040c18f1c2",
              "version_major": 2,
              "version_minor": 0
            },
            "text/html": [
              "<p>Failed to display Jupyter Widget of type <code>HBox</code>.</p>\n",
              "<p>\n",
              "  If you're reading this message in Jupyter Notebook or JupyterLab, it may mean\n",
              "  that the widgets JavaScript is still loading. If this message persists, it\n",
              "  likely means that the widgets JavaScript library is either not installed or\n",
              "  not enabled. See the <a href=\"https://ipywidgets.readthedocs.io/en/stable/user_install.html\">Jupyter\n",
              "  Widgets Documentation</a> for setup instructions.\n",
              "</p>\n",
              "<p>\n",
              "  If you're reading this message in another notebook frontend (for example, a static\n",
              "  rendering on GitHub or <a href=\"https://nbviewer.jupyter.org/\">NBViewer</a>),\n",
              "  it may mean that your frontend doesn't currently support widgets.\n",
              "</p>\n"
            ],
            "text/plain": [
              "HBox(children=(IntProgress(value=0, description='Epoch', max=3), HTML(value='')))"
            ]
          },
          "metadata": {},
          "output_type": "display_data"
        },
        {
          "name": "stdout",
          "output_type": "stream",
          "text": [
            "[ 0.       0.79631  0.78994]                                    \n",
            "[ 1.       0.78677  0.79127]                                    \n",
            "[ 2.      0.7614  0.7906]                                       \n",
            "\n"
          ]
        }
      ]
    },
    {
      "cell_type": "markdown",
      "metadata": {
        "id": "31Wz0dEi-x6P"
      },
      "source": [
        "## Surprise package"
      ]
    },
    {
      "cell_type": "code",
      "metadata": {
        "id": "XXEGWQvc-x6P",
        "outputId": "b23db230-b301-4e73-af66-5b5b63493393"
      },
      "source": [
        "! ls ."
      ],
      "execution_count": null,
      "outputs": [
        {
          "name": "stdout",
          "output_type": "stream",
          "text": [
            "collaborating filter.ipynb  ml-latest-small.zip  movielens.ipynb    tmp\r\n",
            "ml-latest-small\t\t    models\t\t ratings_small.csv\r\n"
          ]
        }
      ]
    },
    {
      "cell_type": "code",
      "metadata": {
        "id": "akAyE3yV-x6Q",
        "outputId": "763c3529-f1a3-4c25-e9a1-60e2baaa02aa"
      },
      "source": [
        "! head -5 '/home/ubuntu/.surprise_data/ml-100k/ml-100k/u.data'"
      ],
      "execution_count": null,
      "outputs": [
        {
          "name": "stdout",
          "output_type": "stream",
          "text": [
            "196\t242\t3\t881250949\r\n",
            "186\t302\t3\t891717742\r\n",
            "22\t377\t1\t878887116\r\n",
            "244\t51\t2\t880606923\r\n",
            "166\t346\t1\t886397596\r\n"
          ]
        }
      ]
    },
    {
      "cell_type": "code",
      "metadata": {
        "id": "YUnOHbjy-x6Q",
        "outputId": "1bb89bcb-9050-4fef-ebdb-5217e5266e2a"
      },
      "source": [
        "! head -5 'ratings_small.csv'"
      ],
      "execution_count": null,
      "outputs": [
        {
          "name": "stdout",
          "output_type": "stream",
          "text": [
            "userId,movieId,rating,timestamp\r",
            "\r\n",
            "1,31,2.5,1260759144\r",
            "\r\n",
            "1,1029,3.0,1260759179\r",
            "\r\n",
            "1,1061,3.0,1260759182\r",
            "\r\n",
            "1,1129,2.0,1260759185\r",
            "\r\n"
          ]
        }
      ]
    },
    {
      "cell_type": "code",
      "metadata": {
        "id": "MbKSLkon-x6R"
      },
      "source": [
        "from surprise import Reader, Dataset\n",
        "# Define the format\n",
        "\n",
        "reader = Reader(line_format='user item rating timestamp', sep='\\t')\n",
        "# Load the data from the file using the reader format\n",
        "\n",
        "data = Dataset.load_from_file('/home/ubuntu/.surprise_data/ml-100k/ml-100k/u.data', reader=reader)"
      ],
      "execution_count": null,
      "outputs": []
    },
    {
      "cell_type": "code",
      "metadata": {
        "id": "Cs5hLdPC-x6R",
        "outputId": "f8c5b33f-a4fb-48be-b091-0b58716f3637"
      },
      "source": [
        "ratings[:2]"
      ],
      "execution_count": null,
      "outputs": [
        {
          "data": {
            "text/html": [
              "<div>\n",
              "<style scoped>\n",
              "    .dataframe tbody tr th:only-of-type {\n",
              "        vertical-align: middle;\n",
              "    }\n",
              "\n",
              "    .dataframe tbody tr th {\n",
              "        vertical-align: top;\n",
              "    }\n",
              "\n",
              "    .dataframe thead th {\n",
              "        text-align: right;\n",
              "    }\n",
              "</style>\n",
              "<table border=\"1\" class=\"dataframe\">\n",
              "  <thead>\n",
              "    <tr style=\"text-align: right;\">\n",
              "      <th></th>\n",
              "      <th>userId</th>\n",
              "      <th>movieId</th>\n",
              "      <th>rating</th>\n",
              "      <th>timestamp</th>\n",
              "    </tr>\n",
              "  </thead>\n",
              "  <tbody>\n",
              "    <tr>\n",
              "      <th>0</th>\n",
              "      <td>1</td>\n",
              "      <td>31</td>\n",
              "      <td>2.5</td>\n",
              "      <td>1260759144</td>\n",
              "    </tr>\n",
              "    <tr>\n",
              "      <th>1</th>\n",
              "      <td>1</td>\n",
              "      <td>1029</td>\n",
              "      <td>3.0</td>\n",
              "      <td>1260759179</td>\n",
              "    </tr>\n",
              "  </tbody>\n",
              "</table>\n",
              "</div>"
            ],
            "text/plain": [
              "   userId  movieId  rating   timestamp\n",
              "0       1       31     2.5  1260759144\n",
              "1       1     1029     3.0  1260759179"
            ]
          },
          "execution_count": 12,
          "metadata": {},
          "output_type": "execute_result"
        }
      ]
    },
    {
      "cell_type": "code",
      "metadata": {
        "id": "9hHf4uLR-x6R"
      },
      "source": [
        "ratings_dict = {'itemID': list(ratings.movieId),\n",
        "                'userID': list(ratings.userId),\n",
        "                'rating': list(ratings.rating)}\n",
        "df = pd.DataFrame(ratings_dict)\n",
        "\n",
        "# A reader is still needed but only the rating_scale param is requiered.\n",
        "reader = Reader(rating_scale=(0.5, 5.0))\n",
        "# The columns must correspond to user id, item id and ratings (in that order).\n",
        "data = Dataset.load_from_df(df[['userID', 'itemID', 'rating']], reader)"
      ],
      "execution_count": null,
      "outputs": []
    },
    {
      "cell_type": "code",
      "metadata": {
        "id": "I1-JY5Uq-x6S"
      },
      "source": [
        "# Split data into 5 folds\n",
        "\n",
        "data.split(n_folds=5)"
      ],
      "execution_count": null,
      "outputs": []
    },
    {
      "cell_type": "code",
      "metadata": {
        "id": "gs1_P085-x6S"
      },
      "source": [
        "from surprise import SVD, evaluate"
      ],
      "execution_count": null,
      "outputs": []
    },
    {
      "cell_type": "code",
      "metadata": {
        "id": "gCmRcHVg-x6S"
      },
      "source": [
        "from surprise import GridSearch"
      ],
      "execution_count": null,
      "outputs": []
    },
    {
      "cell_type": "code",
      "metadata": {
        "id": "7ArGWbWk-x6S",
        "outputId": "d125b6fc-66aa-4fa1-88d2-1a4480add395"
      },
      "source": [
        "param_grid = {'lr_all': [0.002, 0.005],\n",
        "              'reg_all': [0.4, 0.6]}\n",
        "grid_search = GridSearch(SVD, param_grid, measures=['RMSE'])\n",
        "grid_search.evaluate(data)"
      ],
      "execution_count": null,
      "outputs": [
        {
          "name": "stdout",
          "output_type": "stream",
          "text": [
            "[{'lr_all': 0.002, 'reg_all': 0.4}, {'lr_all': 0.002, 'reg_all': 0.6}, {'lr_all': 0.005, 'reg_all': 0.4}, {'lr_all': 0.005, 'reg_all': 0.6}]\n",
            "------------\n",
            "Parameters combination 1 of 4\n",
            "params:  {'lr_all': 0.002, 'reg_all': 0.4}\n",
            "------------\n",
            "Mean RMSE: 0.9133\n",
            "------------\n",
            "------------\n",
            "Parameters combination 2 of 4\n",
            "params:  {'lr_all': 0.002, 'reg_all': 0.6}\n",
            "------------\n",
            "Mean RMSE: 0.9214\n",
            "------------\n",
            "------------\n",
            "Parameters combination 3 of 4\n",
            "params:  {'lr_all': 0.005, 'reg_all': 0.4}\n",
            "------------\n",
            "Mean RMSE: 0.9031\n",
            "------------\n",
            "------------\n",
            "Parameters combination 4 of 4\n",
            "params:  {'lr_all': 0.005, 'reg_all': 0.6}\n",
            "------------\n",
            "Mean RMSE: 0.9121\n",
            "------------\n"
          ]
        }
      ]
    },
    {
      "cell_type": "code",
      "metadata": {
        "id": "Q1ohNHRR-x6T",
        "outputId": "821ad1bd-6a84-4193-bd31-5aa8eae07c2b"
      },
      "source": [
        "algo = SVD()\n",
        "evaluate(algo, data, measures=['RMSE'])"
      ],
      "execution_count": null,
      "outputs": [
        {
          "name": "stdout",
          "output_type": "stream",
          "text": [
            "Evaluating RMSE of algorithm SVD.\n",
            "\n",
            "------------\n",
            "Fold 1\n",
            "RMSE: 0.8990\n",
            "------------\n",
            "Fold 2\n",
            "RMSE: 0.8983\n",
            "------------\n",
            "Fold 3\n",
            "RMSE: 0.8941\n",
            "------------\n",
            "Fold 4\n",
            "RMSE: 0.8962\n",
            "------------\n",
            "Fold 5\n",
            "RMSE: 0.8962\n",
            "------------\n",
            "------------\n",
            "Mean RMSE: 0.8967\n",
            "------------\n",
            "------------\n"
          ]
        },
        {
          "data": {
            "text/plain": [
              "CaseInsensitiveDefaultDict(list,\n",
              "                           {'rmse': [0.89895181594737417,\n",
              "                             0.89831051013903251,\n",
              "                             0.89405859774725671,\n",
              "                             0.89621812893141306,\n",
              "                             0.89617318551492264]})"
            ]
          },
          "execution_count": 52,
          "metadata": {},
          "output_type": "execute_result"
        }
      ]
    },
    {
      "cell_type": "markdown",
      "metadata": {
        "id": "7SM1G1Er-x6T"
      },
      "source": [
        "As noticed above best RMSE from SVD is still higher than default result from fast.ai's neural net version for collaborative filtering using embeddings"
      ]
    },
    {
      "cell_type": "markdown",
      "metadata": {
        "id": "YU-LhWrd-x6T"
      },
      "source": [
        "### Let's try `KNN` algorithm also. "
      ]
    },
    {
      "cell_type": "code",
      "metadata": {
        "id": "PVYa8-mt-x6U"
      },
      "source": [
        "from surprise import KNNBasic"
      ],
      "execution_count": null,
      "outputs": []
    },
    {
      "cell_type": "code",
      "metadata": {
        "id": "8X-x37v3-x6U",
        "outputId": "f37c1e2d-a190-43d9-f35d-66c8a6c9b453"
      },
      "source": [
        "algo = KNNBasic()\n",
        "evaluate(algo, data, measures=['RMSE', 'MAE'])"
      ],
      "execution_count": null,
      "outputs": [
        {
          "name": "stdout",
          "output_type": "stream",
          "text": [
            "Evaluating RMSE, MAE of algorithm KNNBasic.\n",
            "\n",
            "------------\n",
            "Fold 1\n",
            "Computing the msd similarity matrix...\n",
            "Done computing similarity matrix.\n",
            "RMSE: 0.9662\n",
            "MAE:  0.7645\n",
            "------------\n",
            "Fold 2\n",
            "Computing the msd similarity matrix...\n",
            "Done computing similarity matrix.\n",
            "RMSE: 0.9834\n",
            "MAE:  0.7787\n",
            "------------\n",
            "Fold 3\n",
            "Computing the msd similarity matrix...\n",
            "Done computing similarity matrix.\n",
            "RMSE: 0.9802\n",
            "MAE:  0.7744\n",
            "------------\n",
            "Fold 4\n",
            "Computing the msd similarity matrix...\n",
            "Done computing similarity matrix.\n",
            "RMSE: 0.9812\n",
            "MAE:  0.7728\n",
            "------------\n",
            "Fold 5\n",
            "Computing the msd similarity matrix...\n",
            "Done computing similarity matrix.\n",
            "RMSE: 0.9804\n",
            "MAE:  0.7735\n",
            "------------\n",
            "------------\n",
            "Mean RMSE: 0.9783\n",
            "Mean MAE : 0.7728\n",
            "------------\n",
            "------------\n"
          ]
        },
        {
          "data": {
            "text/plain": [
              "CaseInsensitiveDefaultDict(list,\n",
              "                           {'mae': [0.76447687302283862,\n",
              "                             0.77871336218916276,\n",
              "                             0.77444253761129189,\n",
              "                             0.77277756247233054,\n",
              "                             0.77353073380751081],\n",
              "                            'rmse': [0.96618541819639647,\n",
              "                             0.98337516247695278,\n",
              "                             0.98018440899082937,\n",
              "                             0.98120591146396685,\n",
              "                             0.98038668816669572]})"
            ]
          },
          "execution_count": 25,
          "metadata": {},
          "output_type": "execute_result"
        }
      ]
    },
    {
      "cell_type": "markdown",
      "metadata": {
        "id": "Pf4s-fQA-x6U"
      },
      "source": [
        "## NMF"
      ]
    },
    {
      "cell_type": "code",
      "metadata": {
        "id": "XBiRvsbi-x6U"
      },
      "source": [
        "from surprise import NMF"
      ],
      "execution_count": null,
      "outputs": []
    },
    {
      "cell_type": "code",
      "metadata": {
        "id": "e2aHtFik-x6V",
        "outputId": "204c3527-a74d-4f58-d833-45e043b4d6ef"
      },
      "source": [
        "algo = NMF()\n",
        "evaluate(algo, data, measures=['RMSE'])"
      ],
      "execution_count": null,
      "outputs": [
        {
          "name": "stdout",
          "output_type": "stream",
          "text": [
            "Evaluating RMSE of algorithm NMF.\n",
            "\n",
            "------------\n",
            "Fold 1\n",
            "RMSE: 0.9476\n",
            "------------\n",
            "Fold 2\n",
            "RMSE: 0.9449\n",
            "------------\n",
            "Fold 3\n",
            "RMSE: 0.9479\n",
            "------------\n",
            "Fold 4\n",
            "RMSE: 0.9494\n",
            "------------\n",
            "Fold 5\n",
            "RMSE: 0.9450\n",
            "------------\n",
            "------------\n",
            "Mean RMSE: 0.9469\n",
            "------------\n",
            "------------\n"
          ]
        },
        {
          "data": {
            "text/plain": [
              "CaseInsensitiveDefaultDict(list,\n",
              "                           {'rmse': [0.9475771765522677,\n",
              "                             0.94487435132530351,\n",
              "                             0.94786484545358385,\n",
              "                             0.94936598409066575,\n",
              "                             0.94501542053063314]})"
            ]
          },
          "execution_count": 21,
          "metadata": {},
          "output_type": "execute_result"
        }
      ]
    },
    {
      "cell_type": "markdown",
      "metadata": {
        "id": "G9aWoGkX-x6V"
      },
      "source": [
        "## cosine distance"
      ]
    },
    {
      "cell_type": "code",
      "metadata": {
        "id": "MDoLUmAI-x6W"
      },
      "source": [
        "ratings = pd.read_csv('ratings_small.csv')"
      ],
      "execution_count": null,
      "outputs": []
    },
    {
      "cell_type": "code",
      "metadata": {
        "scrolled": true,
        "id": "3hs97MgL-x6W",
        "outputId": "344a1a4d-bb1e-44a1-b057-874aa81c5e28"
      },
      "source": [
        "ratings[:2]"
      ],
      "execution_count": null,
      "outputs": [
        {
          "data": {
            "text/html": [
              "<div>\n",
              "<style scoped>\n",
              "    .dataframe tbody tr th:only-of-type {\n",
              "        vertical-align: middle;\n",
              "    }\n",
              "\n",
              "    .dataframe tbody tr th {\n",
              "        vertical-align: top;\n",
              "    }\n",
              "\n",
              "    .dataframe thead th {\n",
              "        text-align: right;\n",
              "    }\n",
              "</style>\n",
              "<table border=\"1\" class=\"dataframe\">\n",
              "  <thead>\n",
              "    <tr style=\"text-align: right;\">\n",
              "      <th></th>\n",
              "      <th>userId</th>\n",
              "      <th>movieId</th>\n",
              "      <th>rating</th>\n",
              "      <th>timestamp</th>\n",
              "    </tr>\n",
              "  </thead>\n",
              "  <tbody>\n",
              "    <tr>\n",
              "      <th>0</th>\n",
              "      <td>1</td>\n",
              "      <td>31</td>\n",
              "      <td>2.5</td>\n",
              "      <td>1260759144</td>\n",
              "    </tr>\n",
              "    <tr>\n",
              "      <th>1</th>\n",
              "      <td>1</td>\n",
              "      <td>1029</td>\n",
              "      <td>3.0</td>\n",
              "      <td>1260759179</td>\n",
              "    </tr>\n",
              "  </tbody>\n",
              "</table>\n",
              "</div>"
            ],
            "text/plain": [
              "   userId  movieId  rating   timestamp\n",
              "0       1       31     2.5  1260759144\n",
              "1       1     1029     3.0  1260759179"
            ]
          },
          "execution_count": 4,
          "metadata": {},
          "output_type": "execute_result"
        }
      ]
    },
    {
      "cell_type": "code",
      "metadata": {
        "id": "qbwhtm0t-x6W"
      },
      "source": [
        "ratings2 = ratings.copy()"
      ],
      "execution_count": null,
      "outputs": []
    },
    {
      "cell_type": "code",
      "metadata": {
        "id": "4LPIOvIk-x6X"
      },
      "source": [
        "col = ['movieId', 'userId']"
      ],
      "execution_count": null,
      "outputs": []
    },
    {
      "cell_type": "code",
      "metadata": {
        "id": "MOlVtunx-x6X"
      },
      "source": [
        "for c in col:\n",
        "    ratings2[c].replace({val: i for i, val in enumerate(ratings2[c].unique())}, inplace=True)"
      ],
      "execution_count": null,
      "outputs": []
    },
    {
      "cell_type": "code",
      "metadata": {
        "id": "1Ed7RVAu-x6X",
        "outputId": "e5478fdf-298c-4d42-8992-e6fa1a470bc9"
      },
      "source": [
        "ratings2[:2]"
      ],
      "execution_count": null,
      "outputs": [
        {
          "data": {
            "text/html": [
              "<div>\n",
              "<style scoped>\n",
              "    .dataframe tbody tr th:only-of-type {\n",
              "        vertical-align: middle;\n",
              "    }\n",
              "\n",
              "    .dataframe tbody tr th {\n",
              "        vertical-align: top;\n",
              "    }\n",
              "\n",
              "    .dataframe thead th {\n",
              "        text-align: right;\n",
              "    }\n",
              "</style>\n",
              "<table border=\"1\" class=\"dataframe\">\n",
              "  <thead>\n",
              "    <tr style=\"text-align: right;\">\n",
              "      <th></th>\n",
              "      <th>userId</th>\n",
              "      <th>movieId</th>\n",
              "      <th>rating</th>\n",
              "      <th>timestamp</th>\n",
              "    </tr>\n",
              "  </thead>\n",
              "  <tbody>\n",
              "    <tr>\n",
              "      <th>0</th>\n",
              "      <td>0</td>\n",
              "      <td>0</td>\n",
              "      <td>2.5</td>\n",
              "      <td>1260759144</td>\n",
              "    </tr>\n",
              "    <tr>\n",
              "      <th>1</th>\n",
              "      <td>0</td>\n",
              "      <td>1</td>\n",
              "      <td>3.0</td>\n",
              "      <td>1260759179</td>\n",
              "    </tr>\n",
              "  </tbody>\n",
              "</table>\n",
              "</div>"
            ],
            "text/plain": [
              "   userId  movieId  rating   timestamp\n",
              "0       0        0     2.5  1260759144\n",
              "1       0        1     3.0  1260759179"
            ]
          },
          "execution_count": 13,
          "metadata": {},
          "output_type": "execute_result"
        }
      ]
    },
    {
      "cell_type": "code",
      "metadata": {
        "id": "ULrAN-94-x6Y"
      },
      "source": [
        "n_users=int(ratings2.userId.nunique())\n",
        "n_items=int(ratings2.movieId.nunique())"
      ],
      "execution_count": null,
      "outputs": []
    },
    {
      "cell_type": "code",
      "metadata": {
        "id": "D1EsCKk8-x6Y",
        "outputId": "63f9a315-5e35-4f29-8228-1a242c9d0497"
      },
      "source": [
        "print(\"n_users = \",n_users, \"||\", \"n_items = \", n_items )"
      ],
      "execution_count": null,
      "outputs": [
        {
          "name": "stdout",
          "output_type": "stream",
          "text": [
            "n_users =  671 || n_items =  9066\n"
          ]
        }
      ]
    },
    {
      "cell_type": "code",
      "metadata": {
        "id": "j7Ms1i1S-x6Y",
        "outputId": "431e543b-609c-42d9-b0d0-ba7798183e38"
      },
      "source": [
        "from sklearn import cross_validation as cv\n",
        "train_data, test_data = cv.train_test_split(ratings2, test_size=0.25)"
      ],
      "execution_count": null,
      "outputs": [
        {
          "name": "stderr",
          "output_type": "stream",
          "text": [
            "/home/ubuntu/anaconda3/lib/python3.6/site-packages/sklearn/cross_validation.py:41: DeprecationWarning: This module was deprecated in version 0.18 in favor of the model_selection module into which all the refactored classes and functions are moved. Also note that the interface of the new CV iterators are different from that of this module. This module will be removed in 0.20.\n",
            "  \"This module will be removed in 0.20.\", DeprecationWarning)\n"
          ]
        }
      ]
    },
    {
      "cell_type": "code",
      "metadata": {
        "id": "sdIq_pH9-x6Z"
      },
      "source": [
        "#Create two user-item matrices, one for training and another for testing\n",
        "train_data_matrix = np.zeros((n_users, n_items))\n",
        "for line in train_data.itertuples():\n",
        "    train_data_matrix[line[1]-1, line[2]-1] = line[3]\n",
        "    \n",
        "test_data_matrix = np.zeros((n_users, n_items))\n",
        "for line in test_data.itertuples():\n",
        "    test_data_matrix[line[1]-1, line[2]-1] = line[3]"
      ],
      "execution_count": null,
      "outputs": []
    },
    {
      "cell_type": "code",
      "metadata": {
        "id": "2QZexvv_-x6Z"
      },
      "source": [
        "def predict(ratings, similarity, type='user'):\n",
        "    if type == 'user':\n",
        "        mean_user_rating = ratings.mean(axis=1)\n",
        "        #You use np.newaxis so that mean_user_rating has same format as ratings\n",
        "        ratings_diff = (ratings - mean_user_rating[:, np.newaxis])\n",
        "        pred = mean_user_rating[:, np.newaxis] + similarity.dot(ratings_diff) / np.array([np.abs(similarity).sum(axis=1)]).T\n",
        "    elif type == 'item':\n",
        "        pred = ratings.dot(similarity) / np.array([np.abs(similarity).sum(axis=1)])\n",
        "    return pred"
      ],
      "execution_count": null,
      "outputs": []
    },
    {
      "cell_type": "code",
      "metadata": {
        "id": "2Eu-vZcb-x6Z"
      },
      "source": [
        "from sklearn.metrics.pairwise import pairwise_distances\n",
        "user_similarity = pairwise_distances(train_data_matrix, metric='cosine')\n",
        "item_similarity = pairwise_distances(train_data_matrix.T, metric='cosine')"
      ],
      "execution_count": null,
      "outputs": []
    },
    {
      "cell_type": "code",
      "metadata": {
        "id": "j5_7BzuB-x6a"
      },
      "source": [
        "item_prediction = predict(train_data_matrix, item_similarity, type='item')\n",
        "user_prediction = predict(train_data_matrix, user_similarity, type='user')"
      ],
      "execution_count": null,
      "outputs": []
    },
    {
      "cell_type": "code",
      "metadata": {
        "id": "FmsDZQPT-x6a"
      },
      "source": [
        "from sklearn.metrics import mean_squared_error\n",
        "from math import sqrt\n",
        "def mse(prediction, ground_truth):\n",
        "    prediction = prediction[ground_truth.nonzero()].flatten()\n",
        "    ground_truth = ground_truth[ground_truth.nonzero()].flatten()\n",
        "    return mean_squared_error(prediction, ground_truth)"
      ],
      "execution_count": null,
      "outputs": []
    },
    {
      "cell_type": "code",
      "metadata": {
        "id": "uuQj2km5-x6a",
        "outputId": "b457b291-999d-4b8c-b490-5f9b6fd6cbdf"
      },
      "source": [
        "print('User-based CF MSE: ' , str(mse(user_prediction, test_data_matrix)))\n",
        "print('Item-based CF MSE: ' , str(mse(item_prediction, test_data_matrix)))"
      ],
      "execution_count": null,
      "outputs": [
        {
          "name": "stdout",
          "output_type": "stream",
          "text": [
            "User-based CF MSE:  11.3668710905\n",
            "Item-based CF MSE:  12.8400786831\n"
          ]
        }
      ]
    },
    {
      "cell_type": "markdown",
      "metadata": {
        "id": "SAkxQ_Ig-x6b"
      },
      "source": [
        "## plot comparison"
      ]
    },
    {
      "cell_type": "code",
      "metadata": {
        "id": "Okl4km8C-x6b"
      },
      "source": [
        "import matplotlib.pyplot as plt"
      ],
      "execution_count": null,
      "outputs": []
    },
    {
      "cell_type": "code",
      "metadata": {
        "id": "aL7EPQor-x6b",
        "outputId": "29f35ca0-52ac-493a-81ce-4f48c4f89709"
      },
      "source": [
        "mses = [6.47, .957, .897, .804, .801, .79]\n",
        "algos = ['cosine_memory', 'KNN', \"NMF\", 'SVD', 'PMF', 'DL']\n",
        "plt.plot(algos, mses, 'go',  )\n",
        "plt.xlabel(\"Different algos\")\n",
        "plt.ylabel(\"MSE\")\n",
        "plt.show()"
      ],
      "execution_count": null,
      "outputs": [
        {
          "data": {
            "image/png": "[encoded data removed]",
            "text/plain": [
              "<matplotlib.figure.Figure at 0x7f60392124a8>"
            ]
          },
          "metadata": {},
          "output_type": "display_data"
        }
      ]
    },
    {
      "cell_type": "code",
      "metadata": {
        "id": "sglvQc-E-x6c",
        "outputId": "5c6301dc-118a-4b53-a28d-0dea301d1172"
      },
      "source": [
        "FileLink('collaborating_filter.ipynb')"
      ],
      "execution_count": null,
      "outputs": [
        {
          "data": {
            "text/html": [
              "<a href='collaborating_filter.ipynb' target='_blank'>collaborating_filter.ipynb</a><br>"
            ],
            "text/plain": [
              "/home/ubuntu/collaborate_filter/collaborating_filter.ipynb"
            ]
          },
          "execution_count": 30,
          "metadata": {},
          "output_type": "execute_result"
        }
      ]
    }
  ]
}