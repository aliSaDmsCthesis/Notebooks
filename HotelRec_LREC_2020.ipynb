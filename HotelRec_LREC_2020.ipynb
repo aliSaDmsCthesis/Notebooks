{
  "nbformat": 4,
  "nbformat_minor": 0,
  "metadata": {
    "colab": {
      "name": "HotelRec - LREC 2020.ipynb",
      "provenance": [],
      "collapsed_sections": [],
      "authorship_tag": "ABX9TyNZcFSwMf7htnu9mEEH7ayP",
      "include_colab_link": true
    },
    "kernelspec": {
      "display_name": "Python 3",
      "name": "python3"
    },
    "language_info": {
      "name": "python"
    }
  },
  "cells": [
    {
      "cell_type": "markdown",
      "metadata": {
        "id": "view-in-github",
        "colab_type": "text"
      },
      "source": [
        "<a href=\"https://colab.research.google.com/github/aliSaDmsCthesis/Notebooks/blob/main/HotelRec_LREC_2020.ipynb\" target=\"_parent\"><img src=\"https://colab.research.google.com/assets/colab-badge.svg\" alt=\"Open In Colab\"/></a>"
      ]
    },
    {
      "cell_type": "markdown",
      "metadata": {
        "id": "G-_dCpwIbysI"
      },
      "source": [
        "Based on https://github.com/Diego999/HotelRec"
      ]
    },
    {
      "cell_type": "markdown",
      "metadata": {
        "id": "ky0mWMGvb2W_"
      },
      "source": [
        "Resource: TripAdvisor\n",
        "\n",
        "Contain 50 million reviews\n",
        "It has:\n",
        "1.   Rating\n",
        "2.   Text from customer\n",
        "3.   etc\n",
        "\n",
        "Available at http://lia.epfl.ch/Datasets/Full_HotelRec.zip\n",
        "\n",
        "Counter:\n",
        "\n",
        "1.   \\# of hotels: 364839\n",
        "2.   \\# of users: 21891404\n",
        "3.   \\of users with 5 or more comment: 2030354 ~ 9%\n",
        "\n",
        "Related to Dublin, Ireland:\n",
        "\n",
        "1.   \\# of hotels: 391\n",
        "2.   \\# of comments: 163298\n",
        "3.   \\# of users: 143314\n",
        "4.   \\# of users with 5 or more comment about dublin: 487\n",
        "\n",
        "\n",
        "\n",
        "\n",
        "\n",
        "\n"
      ]
    },
    {
      "cell_type": "markdown",
      "metadata": {
        "id": "7xEOiDW_G1bu"
      },
      "source": [
        "{\"hotel_url\": \"Hotel_Review-g194775-d1121769-Reviews-Hotel_Baltic-Giulianova_Province_of_Teramo_Abruzzo.html\",\n",
        "\n",
        " \"author\": \"violettaf340\", \n",
        "\n",
        " \"date\": \"2019-01-01T00:00:00\", \n",
        "\n",
        " \"rating\": 5.0, \n",
        "\n",
        " \"title\": \"Xmas holiday\", \n",
        "\n",
        " \"text\": \"We went here with our kids for Xmas holiday and we really liked it. Large options of food for breakfast and lunch , you can really taste the quality of the food in there. The surrounding area is nice and clean. Good experience. Hardly recommended .\", \n",
        " \n",
        " \"property_dict\": {}}\n"
      ]
    },
    {
      "cell_type": "code",
      "metadata": {
        "colab": {
          "base_uri": "https://localhost:8080/"
        },
        "id": "Qi9wlroC381w",
        "outputId": "2b0593a8-cd1e-4f56-e517-1405ccf53cf2"
      },
      "source": [
        "! wget http://lia.epfl.ch/Datasets/Full_HotelRec.zip"
      ],
      "execution_count": null,
      "outputs": [
        {
          "output_type": "stream",
          "name": "stdout",
          "text": [
            "--2021-09-03 09:19:21--  http://lia.epfl.ch/Datasets/Full_HotelRec.zip\n",
            "Resolving lia.epfl.ch (lia.epfl.ch)... 128.179.33.21\n",
            "Connecting to lia.epfl.ch (lia.epfl.ch)|128.179.33.21|:80... connected.\n",
            "HTTP request sent, awaiting response... 302 Found\n",
            "Location: https://lia.epfl.ch/Datasets/Full_HotelRec.zip [following]\n",
            "--2021-09-03 09:19:21--  https://lia.epfl.ch/Datasets/Full_HotelRec.zip\n",
            "Connecting to lia.epfl.ch (lia.epfl.ch)|128.179.33.21|:443... connected.\n",
            "HTTP request sent, awaiting response... 200 OK\n",
            "Length: 14383775451 (13G) [application/zip]\n",
            "Saving to: ‘Full_HotelRec.zip’\n",
            "\n",
            "Full_HotelRec.zip   100%[===================>]  13.40G  30.0MB/s    in 7m 48s  \n",
            "\n",
            "2021-09-03 09:27:10 (29.3 MB/s) - ‘Full_HotelRec.zip’ saved [14383775451/14383775451]\n",
            "\n"
          ]
        }
      ]
    },
    {
      "cell_type": "code",
      "metadata": {
        "colab": {
          "base_uri": "https://localhost:8080/"
        },
        "id": "a6oIYmgX6uRH",
        "outputId": "fb83b169-7a22-44d4-8c54-4c44bd625458"
      },
      "source": [
        "! unzip  Full_HotelRec.zip -d fh\n",
        "# remove zip file for making free space\n",
        "# %rm   Full_HotelRec.zip "
      ],
      "execution_count": null,
      "outputs": [
        {
          "output_type": "stream",
          "name": "stdout",
          "text": [
            "unzip:  cannot find or open Full_HotelRec.zip, Full_HotelRec.zip.zip or Full_HotelRec.zip.ZIP.\n"
          ]
        }
      ]
    },
    {
      "cell_type": "code",
      "metadata": {
        "colab": {
          "base_uri": "https://localhost:8080/"
        },
        "id": "YDlJRedt7DY_",
        "outputId": "f9bbc23a-d9e6-4ab5-a4fb-23cb987c2ac5"
      },
      "source": [
        "!pwd\n",
        "!ls"
      ],
      "execution_count": null,
      "outputs": [
        {
          "output_type": "stream",
          "name": "stdout",
          "text": [
            "/content\n",
            "fh  Full_HotelRec.zip  sample_data\n"
          ]
        }
      ]
    },
    {
      "cell_type": "code",
      "metadata": {
        "colab": {
          "base_uri": "https://localhost:8080/"
        },
        "id": "re0YWxCEAGC9",
        "outputId": "f90db7a4-b9e6-4e7b-b421-fa046c69effc"
      },
      "source": [
        "%cd fh\n",
        "!ls"
      ],
      "execution_count": null,
      "outputs": [
        {
          "output_type": "stream",
          "name": "stdout",
          "text": [
            "/content/fh\n",
            "HotelRec.txt\n"
          ]
        }
      ]
    },
    {
      "cell_type": "code",
      "metadata": {
        "id": "zGnUz8gVAfxZ"
      },
      "source": [
        "dict = {}\n",
        "m = 50*10**6\n",
        "with open(\"HotelRec.txt\") as infile:\n",
        "    r = 0\n",
        "    for line in infile:\n",
        "        temp = line.split(\",\")[0].split(\"Reviews-\")[-1].replace(\".html\\\"\",\"\")\n",
        "        \n",
        "        \n",
        "        # print(temp)\n",
        "        # if r>50:\n",
        "        #     break\n",
        "        try:\n",
        "          dict[temp]+=1\n",
        "        except:\n",
        "          dict[temp]=1\n",
        "\n",
        "        if r%10**5==0:\n",
        "            print(int(r/10**5) , \"/\" , 500 , temp)\n",
        "        r+=1\n",
        "\n",
        "infile.close()"
      ],
      "execution_count": null,
      "outputs": []
    },
    {
      "cell_type": "code",
      "metadata": {
        "id": "z0RijfuOGf7N",
        "colab": {
          "base_uri": "https://localhost:8080/"
        },
        "outputId": "01cb25a2-e8ac-453f-abe1-85ec32845293"
      },
      "source": [
        "len(dict)"
      ],
      "execution_count": null,
      "outputs": [
        {
          "output_type": "execute_result",
          "data": {
            "text/plain": [
              "364839"
            ]
          },
          "metadata": {},
          "execution_count": 35
        }
      ]
    },
    {
      "cell_type": "code",
      "metadata": {
        "id": "jCjBjONFG64i"
      },
      "source": [
        "enu = 1\n",
        "sum_ = 0\n",
        "for i in dict:\n",
        "  if \"dublin\" in i or \"Dublin\" in i and \"Ohio\" not in i:\n",
        "      # print(i , \" *** \" , dict[i])\n",
        "      enu += 1\n",
        "      sum_ += dict[i]\n",
        "\n",
        "# print(enu)\n",
        "# print(sum_)"
      ],
      "execution_count": null,
      "outputs": []
    },
    {
      "cell_type": "code",
      "metadata": {
        "id": "tNdX90alJ9Wb"
      },
      "source": [
        "dict_auth_total = {}\n",
        "dict_auth_dublin = {}\n",
        "\n",
        "m = 50*10**6\n",
        "\n",
        "with open(\"HotelRec.txt\") as infile:\n",
        "    r = 0\n",
        "    for line in infile:\n",
        "        tempauth = line.split(\",\")[1].split(\":\")[-1].replace(\"\\\"\",\"\")\n",
        "\n",
        "        temphotel = line.split(\",\")[0].split(\"Reviews-\")[-1].replace(\".html\\\"\",\"\")\n",
        "        \n",
        "        \n",
        "        # print(temp)\n",
        "        # if r>5:\n",
        "            # break\n",
        "\n",
        "        if \"dublin\" in temphotel or \"Dublin\" in temphotel and \"Ohio\" not in temphotel:\n",
        "            try:\n",
        "              dict_auth_dublin[tempauth]+=1\n",
        "            except:\n",
        "              dict_auth_dublin[tempauth]=1\n",
        "        \n",
        "        try:\n",
        "          dict_auth_total[tempauth]+=1\n",
        "        except:\n",
        "          dict_auth_total[tempauth]=1\n",
        "\n",
        "        if r%10**5==0:\n",
        "            print(int(r/10**5) , \"/\" , 500 , tempauth)\n",
        "        r+=1\n",
        "\n",
        "infile.close()"
      ],
      "execution_count": null,
      "outputs": []
    },
    {
      "cell_type": "code",
      "metadata": {
        "id": "kkcP2yzDJ9aZ",
        "colab": {
          "base_uri": "https://localhost:8080/"
        },
        "outputId": "5b1c9a66-8151-4df1-e517-b0e7f66528a0"
      },
      "source": [
        "print(len(dict_auth_total)  , len(dict_auth_dublin))"
      ],
      "execution_count": null,
      "outputs": [
        {
          "output_type": "stream",
          "name": "stdout",
          "text": [
            "21891404 143314\n"
          ]
        }
      ]
    },
    {
      "cell_type": "code",
      "metadata": {
        "colab": {
          "base_uri": "https://localhost:8080/"
        },
        "id": "8mr9LvcKYsTh",
        "outputId": "8e7a94dc-683e-4256-a2bb-e45219650f08"
      },
      "source": [
        "c = 0\n",
        "for i in dict_auth_dublin:\n",
        "    c += dict_auth_dublin[i]\n",
        "c"
      ],
      "execution_count": null,
      "outputs": [
        {
          "output_type": "execute_result",
          "data": {
            "text/plain": [
              "163298"
            ]
          },
          "metadata": {},
          "execution_count": 51
        }
      ]
    },
    {
      "cell_type": "code",
      "metadata": {
        "colab": {
          "base_uri": "https://localhost:8080/"
        },
        "id": "AyQYgZGIYxl5",
        "outputId": "2e17db34-a338-4ac0-f3c3-faf05fac1001"
      },
      "source": [
        "cdublin = 0\n",
        "for i in dict_auth_dublin:\n",
        "    if dict_auth_dublin[i]>=5:\n",
        "        cdublin +=1\n",
        "print(cdublin , len(dict_auth_dublin))"
      ],
      "execution_count": null,
      "outputs": [
        {
          "output_type": "stream",
          "name": "stdout",
          "text": [
            "487 143314 0\n"
          ]
        }
      ]
    },
    {
      "cell_type": "code",
      "metadata": {
        "colab": {
          "base_uri": "https://localhost:8080/"
        },
        "id": "aoLQURZSZeiA",
        "outputId": "949165df-a77d-4931-a713-0004eab81924"
      },
      "source": [
        "ctotal = 0\n",
        "for i in dict_auth_total:\n",
        "    if dict_auth_total[i]>=5:\n",
        "        ctotal +=1\n",
        "print(ctotal , len(dict_auth_total))"
      ],
      "execution_count": null,
      "outputs": [
        {
          "output_type": "stream",
          "name": "stdout",
          "text": [
            "2030354 21891404\n"
          ]
        }
      ]
    },
    {
      "cell_type": "code",
      "metadata": {
        "colab": {
          "base_uri": "https://localhost:8080/"
        },
        "id": "O3gDDqK9ZzZw",
        "outputId": "44533465-fae1-48ac-ffa6-34fbdd33bb6a"
      },
      "source": [
        "int(100*2030354/21891404)"
      ],
      "execution_count": null,
      "outputs": [
        {
          "output_type": "execute_result",
          "data": {
            "text/plain": [
              "9"
            ]
          },
          "metadata": {},
          "execution_count": 57
        }
      ]
    },
    {
      "cell_type": "code",
      "metadata": {
        "id": "q4z4cmrfaB7Q"
      },
      "source": [
        ""
      ],
      "execution_count": null,
      "outputs": []
    }
  ]
}