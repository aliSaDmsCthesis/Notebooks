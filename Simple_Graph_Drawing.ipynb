{
  "nbformat": 4,
  "nbformat_minor": 0,
  "metadata": {
    "colab": {
      "name": "Create KG.ipynb",
      "provenance": [],
      "collapsed_sections": [],
      "authorship_tag": "ABX9TyNjCze4liUdyP14LNvyIgJ7",
      "include_colab_link": true
    },
    "kernelspec": {
      "name": "python3",
      "display_name": "Python 3"
    },
    "language_info": {
      "name": "python"
    }
  },
  "cells": [
    {
      "cell_type": "markdown",
      "metadata": {
        "id": "view-in-github",
        "colab_type": "text"
      },
      "source": [
        "<a href=\"https://colab.research.google.com/github/aliSaDmsCthesis/Notebooks/blob/main/Simple_Graph_Drawing.ipynb\" target=\"_parent\"><img src=\"https://colab.research.google.com/assets/colab-badge.svg\" alt=\"Open In Colab\"/></a>"
      ]
    },
    {
      "cell_type": "markdown",
      "metadata": {
        "id": "HFcfKil-H68t"
      },
      "source": [
        "# Create KG \n",
        "simple example"
      ]
    },
    {
      "cell_type": "code",
      "metadata": {
        "id": "JcivVz6oH4sq"
      },
      "source": [
        "import networkx as nx\n",
        "import matplotlib.pyplot as plt"
      ],
      "execution_count": 61,
      "outputs": []
    },
    {
      "cell_type": "code",
      "metadata": {
        "id": "DTVDkY7bIL6g"
      },
      "source": [
        "entity_pairs = []\n",
        "entity_pairs.append([\"A.S.D.\",\"H.B.\"])\n",
        "entity_pairs.append([\"F.L.\",\"H.B.\"])\n",
        "entity_pairs.append([\"A.S.D.\",\"F.L.\"])\n",
        "entity_pairs.append([\"A.S.D.\",\"F.G.\"])"
      ],
      "execution_count": 62,
      "outputs": []
    },
    {
      "cell_type": "code",
      "metadata": {
        "id": "xfjXgEouIL2u"
      },
      "source": [
        "relations = [\"under sv\",\"post doc\",\"under help\",\"under sv\"]"
      ],
      "execution_count": 90,
      "outputs": []
    },
    {
      "cell_type": "code",
      "metadata": {
        "id": "QMQ0djjTILtc"
      },
      "source": [
        ""
      ],
      "execution_count": 90,
      "outputs": []
    },
    {
      "cell_type": "code",
      "metadata": {
        "colab": {
          "base_uri": "https://localhost:8080/",
          "height": 281
        },
        "id": "MRi6pbxxJSgh",
        "outputId": "f537a71f-e969-49aa-8001-0ad1620a5e03"
      },
      "source": [
        "G = nx.DiGraph()\n",
        "\n",
        "G.add_node(\"A.S.D.\")\n",
        "G.add_node(\"F.L.\")\n",
        "G.add_node(\"H.B.\")\n",
        "G.add_node(\"F.G.\")\n",
        "\n",
        "G.add_edge(\"A.S.D.\",\"H.B.\")\n",
        "G.add_edge(\"F.L.\",\"H.B.\")\n",
        "G.add_edge(\"A.S.D.\",\"F.L.\")\n",
        "G.add_edge(\"A.S.D.\",\"F.G.\")\n",
        "\n",
        "pos = nx.spring_layout(G)\n",
        "\n",
        "nx.draw_networkx_nodes(G, pos ,node_color='skyblue')\n",
        "nx.draw_networkx_labels(G, pos)\n",
        "nx.draw_networkx_edges(G, pos , edge_cmap=True )\n",
        "\n",
        "dic = {}\n",
        "dic[(\"A.S.D.\",\"H.B.\")]=relations[0]\n",
        "dic[(\"F.L.\",\"H.B.\")]=relations[1]\n",
        "dic[(\"A.S.D.\",\"F.L.\")]=relations[2]\n",
        "dic[(\"A.S.D.\",\"F.G.\")]=relations[3]\n",
        "\n",
        "labels=dic\n",
        "\n",
        "\n",
        "nx.draw_networkx_edge_labels(G,pos,edge_labels=labels ,font_color='green')\n",
        "\n",
        "\n",
        "plt.show()"
      ],
      "execution_count": 99,
      "outputs": [
        {
          "output_type": "stream",
          "name": "stdout",
          "text": [
            "['A.S.D.', 'F.L.', 'H.B.', 'F.G.']\n",
            "[('A.S.D.', 'H.B.'), ('A.S.D.', 'F.L.'), ('A.S.D.', 'F.G.'), ('F.L.', 'H.B.')]\n"
          ]
        },
        {
          "output_type": "display_data",
          "data": {
            "image/png": "[encoded data removed]",
            "text/plain": [
              "<Figure size 432x288 with 1 Axes>"
            ]
          },
          "metadata": {}
        }
      ]
    },
    {
      "cell_type": "code",
      "metadata": {
        "id": "sumJvf4cJYhw"
      },
      "source": [
        ""
      ],
      "execution_count": 96,
      "outputs": []
    },
    {
      "cell_type": "code",
      "metadata": {
        "id": "kOMwvTynKj_x"
      },
      "source": [
        ""
      ],
      "execution_count": 49,
      "outputs": []
    },
    {
      "cell_type": "code",
      "metadata": {
        "id": "cJyn2Y7GNEeV"
      },
      "source": [
        ""
      ],
      "execution_count": null,
      "outputs": []
    }
  ]
}